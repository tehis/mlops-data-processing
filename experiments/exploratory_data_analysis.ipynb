{
 "cells": [
  {
   "cell_type": "markdown",
   "id": "9174b509",
   "metadata": {},
   "source": [
    "# Data Loading"
   ]
  },
  {
   "cell_type": "code",
   "execution_count": 12,
   "id": "56d58230",
   "metadata": {},
   "outputs": [],
   "source": [
    "import pandas as pd"
   ]
  },
  {
   "cell_type": "code",
   "execution_count": 13,
   "id": "0029e3f0",
   "metadata": {},
   "outputs": [],
   "source": [
    "origin_df = pd.read_csv('divar_posts_dataset.csv')"
   ]
  },
  {
   "cell_type": "code",
   "execution_count": 14,
   "id": "e0e3a343",
   "metadata": {
    "scrolled": true
   },
   "outputs": [
    {
     "data": {
      "text/html": [
       "<div>\n",
       "<style scoped>\n",
       "    .dataframe tbody tr th:only-of-type {\n",
       "        vertical-align: middle;\n",
       "    }\n",
       "\n",
       "    .dataframe tbody tr th {\n",
       "        vertical-align: top;\n",
       "    }\n",
       "\n",
       "    .dataframe thead th {\n",
       "        text-align: right;\n",
       "    }\n",
       "</style>\n",
       "<table border=\"1\" class=\"dataframe\">\n",
       "  <thead>\n",
       "    <tr style=\"text-align: right;\">\n",
       "      <th></th>\n",
       "      <th>Unnamed: 0</th>\n",
       "      <th>archive_by_user</th>\n",
       "      <th>brand</th>\n",
       "      <th>cat1</th>\n",
       "      <th>cat2</th>\n",
       "      <th>cat3</th>\n",
       "      <th>city</th>\n",
       "      <th>created_at</th>\n",
       "      <th>desc</th>\n",
       "      <th>id</th>\n",
       "      <th>image_count</th>\n",
       "      <th>mileage</th>\n",
       "      <th>platform</th>\n",
       "      <th>price</th>\n",
       "      <th>title</th>\n",
       "      <th>type</th>\n",
       "      <th>year</th>\n",
       "    </tr>\n",
       "  </thead>\n",
       "  <tbody>\n",
       "    <tr>\n",
       "      <th>0</th>\n",
       "      <td>0</td>\n",
       "      <td>False</td>\n",
       "      <td>NaN</td>\n",
       "      <td>for-the-home</td>\n",
       "      <td>furniture-and-home-decore</td>\n",
       "      <td>sofa-armchair</td>\n",
       "      <td>Tehran</td>\n",
       "      <td>Tuesday 07PM</td>\n",
       "      <td>کلاسیک و شیک و استثنایی\\nچرم مالزی\\nچوب راش\\nف...</td>\n",
       "      <td>54761638662241</td>\n",
       "      <td>5</td>\n",
       "      <td>NaN</td>\n",
       "      <td>mobile</td>\n",
       "      <td>3850000</td>\n",
       "      <td>ست مبلمان و نهارخوری ٩ نفره</td>\n",
       "      <td>NaN</td>\n",
       "      <td>NaN</td>\n",
       "    </tr>\n",
       "    <tr>\n",
       "      <th>1</th>\n",
       "      <td>1</td>\n",
       "      <td>False</td>\n",
       "      <td>NaN</td>\n",
       "      <td>for-the-home</td>\n",
       "      <td>furniture-and-home-decore</td>\n",
       "      <td>antiques-and-art</td>\n",
       "      <td>Mashhad</td>\n",
       "      <td>Tuesday 07PM</td>\n",
       "      <td>سلام,یک عدد گلدون نخل سه طبقه ی سالم دارم با پ...</td>\n",
       "      <td>42727631379133</td>\n",
       "      <td>1</td>\n",
       "      <td>NaN</td>\n",
       "      <td>mobile</td>\n",
       "      <td>30000</td>\n",
       "      <td>گلدون مصنوعی نخل</td>\n",
       "      <td>NaN</td>\n",
       "      <td>NaN</td>\n",
       "    </tr>\n",
       "    <tr>\n",
       "      <th>2</th>\n",
       "      <td>2</td>\n",
       "      <td>False</td>\n",
       "      <td>NaN</td>\n",
       "      <td>vehicles</td>\n",
       "      <td>cars</td>\n",
       "      <td>heavy</td>\n",
       "      <td>Mashhad</td>\n",
       "      <td>Tuesday 07PM</td>\n",
       "      <td>سریال 43j$NUMبدون شکستگی سه حلقه لاستیک نو یک ...</td>\n",
       "      <td>63194439667302</td>\n",
       "      <td>4</td>\n",
       "      <td>NaN</td>\n",
       "      <td>mobile</td>\n",
       "      <td>-1</td>\n",
       "      <td>لودر کاتر پیلار 950</td>\n",
       "      <td>NaN</td>\n",
       "      <td>NaN</td>\n",
       "    </tr>\n",
       "    <tr>\n",
       "      <th>3</th>\n",
       "      <td>3</td>\n",
       "      <td>False</td>\n",
       "      <td>NaN</td>\n",
       "      <td>for-the-home</td>\n",
       "      <td>furniture-and-home-decore</td>\n",
       "      <td>sofa-armchair</td>\n",
       "      <td>Tehran</td>\n",
       "      <td>Tuesday 07PM</td>\n",
       "      <td>مبل راحتی هفت نفره شامل سه نفره یک عدد دونفره ...</td>\n",
       "      <td>19133025491169</td>\n",
       "      <td>4</td>\n",
       "      <td>NaN</td>\n",
       "      <td>mobile</td>\n",
       "      <td>600000</td>\n",
       "      <td>مبل راحتی هفت نفره بامیز جلو مبلی</td>\n",
       "      <td>NaN</td>\n",
       "      <td>NaN</td>\n",
       "    </tr>\n",
       "    <tr>\n",
       "      <th>4</th>\n",
       "      <td>4</td>\n",
       "      <td>False</td>\n",
       "      <td>NaN</td>\n",
       "      <td>personal</td>\n",
       "      <td>baby-and-toys</td>\n",
       "      <td>personal-toys</td>\n",
       "      <td>Karaj</td>\n",
       "      <td>Tuesday 08PM</td>\n",
       "      <td>شارژی کنترلی سویچ حمل تا 35 کیلو صندلی برای دو...</td>\n",
       "      <td>58998998335444</td>\n",
       "      <td>2</td>\n",
       "      <td>NaN</td>\n",
       "      <td>mobile</td>\n",
       "      <td>450000</td>\n",
       "      <td>ماشین شارژی</td>\n",
       "      <td>NaN</td>\n",
       "      <td>NaN</td>\n",
       "    </tr>\n",
       "    <tr>\n",
       "      <th>...</th>\n",
       "      <td>...</td>\n",
       "      <td>...</td>\n",
       "      <td>...</td>\n",
       "      <td>...</td>\n",
       "      <td>...</td>\n",
       "      <td>...</td>\n",
       "      <td>...</td>\n",
       "      <td>...</td>\n",
       "      <td>...</td>\n",
       "      <td>...</td>\n",
       "      <td>...</td>\n",
       "      <td>...</td>\n",
       "      <td>...</td>\n",
       "      <td>...</td>\n",
       "      <td>...</td>\n",
       "      <td>...</td>\n",
       "      <td>...</td>\n",
       "    </tr>\n",
       "    <tr>\n",
       "      <th>947630</th>\n",
       "      <td>947630</td>\n",
       "      <td>True</td>\n",
       "      <td>NaN</td>\n",
       "      <td>for-the-home</td>\n",
       "      <td>building-and-garden</td>\n",
       "      <td>stove-and-heating</td>\n",
       "      <td>Shiraz</td>\n",
       "      <td>Friday 07AM</td>\n",
       "      <td>دوعدد یکی یک متری و دیگری 1.4 متری موجود است\\n...</td>\n",
       "      <td>16127180351093</td>\n",
       "      <td>1</td>\n",
       "      <td>NaN</td>\n",
       "      <td>web</td>\n",
       "      <td>180000</td>\n",
       "      <td>رادیاتور پنلی نو ترک</td>\n",
       "      <td>NaN</td>\n",
       "      <td>NaN</td>\n",
       "    </tr>\n",
       "    <tr>\n",
       "      <th>947631</th>\n",
       "      <td>947631</td>\n",
       "      <td>True</td>\n",
       "      <td>NaN</td>\n",
       "      <td>electronic-devices</td>\n",
       "      <td>audio-video</td>\n",
       "      <td>camera-camcoders</td>\n",
       "      <td>Tehran</td>\n",
       "      <td>Friday 02PM</td>\n",
       "      <td>دوربین هندی کم کنون مدل لگریا fs36\\n\\nعکاسی و ...</td>\n",
       "      <td>29805298491725</td>\n",
       "      <td>1</td>\n",
       "      <td>NaN</td>\n",
       "      <td>mobile</td>\n",
       "      <td>350000</td>\n",
       "      <td>دوربین هندی کم  کنون</td>\n",
       "      <td>NaN</td>\n",
       "      <td>NaN</td>\n",
       "    </tr>\n",
       "    <tr>\n",
       "      <th>947632</th>\n",
       "      <td>947632</td>\n",
       "      <td>True</td>\n",
       "      <td>پراید صندوق‌دار::Pride</td>\n",
       "      <td>vehicles</td>\n",
       "      <td>cars</td>\n",
       "      <td>light</td>\n",
       "      <td>Shiraz</td>\n",
       "      <td>Friday 04PM</td>\n",
       "      <td>پراید دوگانه کارخانه میباشد و کم کارکرد.روکش ....</td>\n",
       "      <td>55514317985619</td>\n",
       "      <td>3</td>\n",
       "      <td>43000.0</td>\n",
       "      <td>mobile</td>\n",
       "      <td>17400000</td>\n",
       "      <td>پراید دوگانه کارخانه مدل93</td>\n",
       "      <td>NaN</td>\n",
       "      <td>1393</td>\n",
       "    </tr>\n",
       "    <tr>\n",
       "      <th>947633</th>\n",
       "      <td>947633</td>\n",
       "      <td>True</td>\n",
       "      <td>NaN</td>\n",
       "      <td>electronic-devices</td>\n",
       "      <td>mobile-tablet</td>\n",
       "      <td>mobile-tablet-accessories</td>\n",
       "      <td>Mashhad</td>\n",
       "      <td>Friday 05PM</td>\n",
       "      <td>مونو پد یانگ تد همراه با پایه و اینه عقبش\\nواس...</td>\n",
       "      <td>65938921533442</td>\n",
       "      <td>1</td>\n",
       "      <td>NaN</td>\n",
       "      <td>mobile</td>\n",
       "      <td>40000</td>\n",
       "      <td>مونوپد یانگ تد خیلی تمیز و نو</td>\n",
       "      <td>NaN</td>\n",
       "      <td>NaN</td>\n",
       "    </tr>\n",
       "    <tr>\n",
       "      <th>947634</th>\n",
       "      <td>947634</td>\n",
       "      <td>True</td>\n",
       "      <td>NaN</td>\n",
       "      <td>personal</td>\n",
       "      <td>jewelry-and-watches</td>\n",
       "      <td>watches</td>\n",
       "      <td>Shiraz</td>\n",
       "      <td>Friday 05PM</td>\n",
       "      <td>جواب فقط تماس و. وات ساپ</td>\n",
       "      <td>18312774360687</td>\n",
       "      <td>1</td>\n",
       "      <td>NaN</td>\n",
       "      <td>mobile</td>\n",
       "      <td>25000</td>\n",
       "      <td>ساعت مارک</td>\n",
       "      <td>NaN</td>\n",
       "      <td>NaN</td>\n",
       "    </tr>\n",
       "  </tbody>\n",
       "</table>\n",
       "<p>947635 rows × 17 columns</p>\n",
       "</div>"
      ],
      "text/plain": [
       "        Unnamed: 0  archive_by_user                   brand   \n",
       "0                0            False                     NaN  \\\n",
       "1                1            False                     NaN   \n",
       "2                2            False                     NaN   \n",
       "3                3            False                     NaN   \n",
       "4                4            False                     NaN   \n",
       "...            ...              ...                     ...   \n",
       "947630      947630             True                     NaN   \n",
       "947631      947631             True                     NaN   \n",
       "947632      947632             True  پراید صندوق‌دار::Pride   \n",
       "947633      947633             True                     NaN   \n",
       "947634      947634             True                     NaN   \n",
       "\n",
       "                      cat1                       cat2   \n",
       "0             for-the-home  furniture-and-home-decore  \\\n",
       "1             for-the-home  furniture-and-home-decore   \n",
       "2                 vehicles                       cars   \n",
       "3             for-the-home  furniture-and-home-decore   \n",
       "4                 personal              baby-and-toys   \n",
       "...                    ...                        ...   \n",
       "947630        for-the-home        building-and-garden   \n",
       "947631  electronic-devices                audio-video   \n",
       "947632            vehicles                       cars   \n",
       "947633  electronic-devices              mobile-tablet   \n",
       "947634            personal        jewelry-and-watches   \n",
       "\n",
       "                             cat3     city    created_at   \n",
       "0                   sofa-armchair   Tehran  Tuesday 07PM  \\\n",
       "1                antiques-and-art  Mashhad  Tuesday 07PM   \n",
       "2                           heavy  Mashhad  Tuesday 07PM   \n",
       "3                   sofa-armchair   Tehran  Tuesday 07PM   \n",
       "4                   personal-toys    Karaj  Tuesday 08PM   \n",
       "...                           ...      ...           ...   \n",
       "947630          stove-and-heating   Shiraz   Friday 07AM   \n",
       "947631           camera-camcoders   Tehran   Friday 02PM   \n",
       "947632                      light   Shiraz   Friday 04PM   \n",
       "947633  mobile-tablet-accessories  Mashhad   Friday 05PM   \n",
       "947634                    watches   Shiraz   Friday 05PM   \n",
       "\n",
       "                                                     desc              id   \n",
       "0       کلاسیک و شیک و استثنایی\\nچرم مالزی\\nچوب راش\\nف...  54761638662241  \\\n",
       "1       سلام,یک عدد گلدون نخل سه طبقه ی سالم دارم با پ...  42727631379133   \n",
       "2       سریال 43j$NUMبدون شکستگی سه حلقه لاستیک نو یک ...  63194439667302   \n",
       "3       مبل راحتی هفت نفره شامل سه نفره یک عدد دونفره ...  19133025491169   \n",
       "4       شارژی کنترلی سویچ حمل تا 35 کیلو صندلی برای دو...  58998998335444   \n",
       "...                                                   ...             ...   \n",
       "947630  دوعدد یکی یک متری و دیگری 1.4 متری موجود است\\n...  16127180351093   \n",
       "947631  دوربین هندی کم کنون مدل لگریا fs36\\n\\nعکاسی و ...  29805298491725   \n",
       "947632  پراید دوگانه کارخانه میباشد و کم کارکرد.روکش ....  55514317985619   \n",
       "947633  مونو پد یانگ تد همراه با پایه و اینه عقبش\\nواس...  65938921533442   \n",
       "947634                           جواب فقط تماس و. وات ساپ  18312774360687   \n",
       "\n",
       "        image_count  mileage platform     price   \n",
       "0                 5      NaN   mobile   3850000  \\\n",
       "1                 1      NaN   mobile     30000   \n",
       "2                 4      NaN   mobile        -1   \n",
       "3                 4      NaN   mobile    600000   \n",
       "4                 2      NaN   mobile    450000   \n",
       "...             ...      ...      ...       ...   \n",
       "947630            1      NaN      web    180000   \n",
       "947631            1      NaN   mobile    350000   \n",
       "947632            3  43000.0   mobile  17400000   \n",
       "947633            1      NaN   mobile     40000   \n",
       "947634            1      NaN   mobile     25000   \n",
       "\n",
       "                                    title type  year  \n",
       "0             ست مبلمان و نهارخوری ٩ نفره  NaN   NaN  \n",
       "1                        گلدون مصنوعی نخل  NaN   NaN  \n",
       "2                     لودر کاتر پیلار 950  NaN   NaN  \n",
       "3       مبل راحتی هفت نفره بامیز جلو مبلی  NaN   NaN  \n",
       "4                             ماشین شارژی  NaN   NaN  \n",
       "...                                   ...  ...   ...  \n",
       "947630               رادیاتور پنلی نو ترک  NaN   NaN  \n",
       "947631               دوربین هندی کم  کنون  NaN   NaN  \n",
       "947632         پراید دوگانه کارخانه مدل93  NaN  1393  \n",
       "947633      مونوپد یانگ تد خیلی تمیز و نو  NaN   NaN  \n",
       "947634                          ساعت مارک  NaN   NaN  \n",
       "\n",
       "[947635 rows x 17 columns]"
      ]
     },
     "execution_count": 14,
     "metadata": {},
     "output_type": "execute_result"
    }
   ],
   "source": [
    "origin_df"
   ]
  },
  {
   "cell_type": "code",
   "execution_count": 17,
   "id": "3d1fafd7",
   "metadata": {},
   "outputs": [],
   "source": [
    "df = origin_df[:10000].drop(columns=['cat2', 'cat3', 'Unnamed: 0']).copy()"
   ]
  },
  {
   "cell_type": "code",
   "execution_count": 18,
   "id": "07f2195c",
   "metadata": {},
   "outputs": [],
   "source": [
    "df.to_csv('divar_reduced_posts.csv', sep=',')"
   ]
  },
  {
   "cell_type": "code",
   "execution_count": 19,
   "id": "52c8b41d",
   "metadata": {},
   "outputs": [
    {
     "data": {
      "text/html": [
       "<div>\n",
       "<style scoped>\n",
       "    .dataframe tbody tr th:only-of-type {\n",
       "        vertical-align: middle;\n",
       "    }\n",
       "\n",
       "    .dataframe tbody tr th {\n",
       "        vertical-align: top;\n",
       "    }\n",
       "\n",
       "    .dataframe thead th {\n",
       "        text-align: right;\n",
       "    }\n",
       "</style>\n",
       "<table border=\"1\" class=\"dataframe\">\n",
       "  <thead>\n",
       "    <tr style=\"text-align: right;\">\n",
       "      <th></th>\n",
       "      <th>archive_by_user</th>\n",
       "      <th>brand</th>\n",
       "      <th>cat1</th>\n",
       "      <th>city</th>\n",
       "      <th>created_at</th>\n",
       "      <th>desc</th>\n",
       "      <th>id</th>\n",
       "      <th>image_count</th>\n",
       "      <th>mileage</th>\n",
       "      <th>platform</th>\n",
       "      <th>price</th>\n",
       "      <th>title</th>\n",
       "      <th>type</th>\n",
       "      <th>year</th>\n",
       "    </tr>\n",
       "  </thead>\n",
       "  <tbody>\n",
       "    <tr>\n",
       "      <th>0</th>\n",
       "      <td>False</td>\n",
       "      <td>NaN</td>\n",
       "      <td>for-the-home</td>\n",
       "      <td>Tehran</td>\n",
       "      <td>Tuesday 07PM</td>\n",
       "      <td>کلاسیک و شیک و استثنایی\\nچرم مالزی\\nچوب راش\\nف...</td>\n",
       "      <td>54761638662241</td>\n",
       "      <td>5</td>\n",
       "      <td>NaN</td>\n",
       "      <td>mobile</td>\n",
       "      <td>3850000</td>\n",
       "      <td>ست مبلمان و نهارخوری ٩ نفره</td>\n",
       "      <td>NaN</td>\n",
       "      <td>NaN</td>\n",
       "    </tr>\n",
       "    <tr>\n",
       "      <th>1</th>\n",
       "      <td>False</td>\n",
       "      <td>NaN</td>\n",
       "      <td>for-the-home</td>\n",
       "      <td>Mashhad</td>\n",
       "      <td>Tuesday 07PM</td>\n",
       "      <td>سلام,یک عدد گلدون نخل سه طبقه ی سالم دارم با پ...</td>\n",
       "      <td>42727631379133</td>\n",
       "      <td>1</td>\n",
       "      <td>NaN</td>\n",
       "      <td>mobile</td>\n",
       "      <td>30000</td>\n",
       "      <td>گلدون مصنوعی نخل</td>\n",
       "      <td>NaN</td>\n",
       "      <td>NaN</td>\n",
       "    </tr>\n",
       "    <tr>\n",
       "      <th>2</th>\n",
       "      <td>False</td>\n",
       "      <td>NaN</td>\n",
       "      <td>vehicles</td>\n",
       "      <td>Mashhad</td>\n",
       "      <td>Tuesday 07PM</td>\n",
       "      <td>سریال 43j$NUMبدون شکستگی سه حلقه لاستیک نو یک ...</td>\n",
       "      <td>63194439667302</td>\n",
       "      <td>4</td>\n",
       "      <td>NaN</td>\n",
       "      <td>mobile</td>\n",
       "      <td>-1</td>\n",
       "      <td>لودر کاتر پیلار 950</td>\n",
       "      <td>NaN</td>\n",
       "      <td>NaN</td>\n",
       "    </tr>\n",
       "    <tr>\n",
       "      <th>3</th>\n",
       "      <td>False</td>\n",
       "      <td>NaN</td>\n",
       "      <td>for-the-home</td>\n",
       "      <td>Tehran</td>\n",
       "      <td>Tuesday 07PM</td>\n",
       "      <td>مبل راحتی هفت نفره شامل سه نفره یک عدد دونفره ...</td>\n",
       "      <td>19133025491169</td>\n",
       "      <td>4</td>\n",
       "      <td>NaN</td>\n",
       "      <td>mobile</td>\n",
       "      <td>600000</td>\n",
       "      <td>مبل راحتی هفت نفره بامیز جلو مبلی</td>\n",
       "      <td>NaN</td>\n",
       "      <td>NaN</td>\n",
       "    </tr>\n",
       "    <tr>\n",
       "      <th>4</th>\n",
       "      <td>False</td>\n",
       "      <td>NaN</td>\n",
       "      <td>personal</td>\n",
       "      <td>Karaj</td>\n",
       "      <td>Tuesday 08PM</td>\n",
       "      <td>شارژی کنترلی سویچ حمل تا 35 کیلو صندلی برای دو...</td>\n",
       "      <td>58998998335444</td>\n",
       "      <td>2</td>\n",
       "      <td>NaN</td>\n",
       "      <td>mobile</td>\n",
       "      <td>450000</td>\n",
       "      <td>ماشین شارژی</td>\n",
       "      <td>NaN</td>\n",
       "      <td>NaN</td>\n",
       "    </tr>\n",
       "    <tr>\n",
       "      <th>...</th>\n",
       "      <td>...</td>\n",
       "      <td>...</td>\n",
       "      <td>...</td>\n",
       "      <td>...</td>\n",
       "      <td>...</td>\n",
       "      <td>...</td>\n",
       "      <td>...</td>\n",
       "      <td>...</td>\n",
       "      <td>...</td>\n",
       "      <td>...</td>\n",
       "      <td>...</td>\n",
       "      <td>...</td>\n",
       "      <td>...</td>\n",
       "      <td>...</td>\n",
       "    </tr>\n",
       "    <tr>\n",
       "      <th>9995</th>\n",
       "      <td>False</td>\n",
       "      <td>NaN</td>\n",
       "      <td>personal</td>\n",
       "      <td>Tehran</td>\n",
       "      <td>Wednesday 07PM</td>\n",
       "      <td>اصلا پوشیده نشده نو هستش</td>\n",
       "      <td>21063397838341</td>\n",
       "      <td>4</td>\n",
       "      <td>NaN</td>\n",
       "      <td>mobile</td>\n",
       "      <td>55000</td>\n",
       "      <td>مانتو مجلسی قرمز سایز44 46</td>\n",
       "      <td>women</td>\n",
       "      <td>NaN</td>\n",
       "    </tr>\n",
       "    <tr>\n",
       "      <th>9996</th>\n",
       "      <td>False</td>\n",
       "      <td>NaN</td>\n",
       "      <td>personal</td>\n",
       "      <td>Ahvaz</td>\n",
       "      <td>Wednesday 08PM</td>\n",
       "      <td>لباس تمام گیپور. تو عکس مشخصه تمیز.فقط ۱بار تن...</td>\n",
       "      <td>42819975080363</td>\n",
       "      <td>3</td>\n",
       "      <td>NaN</td>\n",
       "      <td>mobile</td>\n",
       "      <td>70000</td>\n",
       "      <td>لباس مجلسییییی شیک</td>\n",
       "      <td>women</td>\n",
       "      <td>NaN</td>\n",
       "    </tr>\n",
       "    <tr>\n",
       "      <th>9997</th>\n",
       "      <td>False</td>\n",
       "      <td>Huawei::هوآوی</td>\n",
       "      <td>electronic-devices</td>\n",
       "      <td>Karaj</td>\n",
       "      <td>Thursday 04AM</td>\n",
       "      <td>نونو همراه با جبه با همه چی</td>\n",
       "      <td>7494598410644</td>\n",
       "      <td>3</td>\n",
       "      <td>NaN</td>\n",
       "      <td>mobile</td>\n",
       "      <td>400000</td>\n",
       "      <td>HUAWEI g6</td>\n",
       "      <td>NaN</td>\n",
       "      <td>NaN</td>\n",
       "    </tr>\n",
       "    <tr>\n",
       "      <th>9998</th>\n",
       "      <td>False</td>\n",
       "      <td>NaN</td>\n",
       "      <td>for-the-home</td>\n",
       "      <td>Tehran</td>\n",
       "      <td>Thursday 04AM</td>\n",
       "      <td>باز هم اجناس دیگه هم هست اگه دوست داشتید به تل...</td>\n",
       "      <td>24182403631548</td>\n",
       "      <td>1</td>\n",
       "      <td>NaN</td>\n",
       "      <td>mobile</td>\n",
       "      <td>41000</td>\n",
       "      <td>نمکپاش و قندان</td>\n",
       "      <td>NaN</td>\n",
       "      <td>NaN</td>\n",
       "    </tr>\n",
       "    <tr>\n",
       "      <th>9999</th>\n",
       "      <td>False</td>\n",
       "      <td>NaN</td>\n",
       "      <td>vehicles</td>\n",
       "      <td>Shiraz</td>\n",
       "      <td>Thursday 05AM</td>\n",
       "      <td>موتور پلمب هست هنوز باز نشده</td>\n",
       "      <td>14582230606463</td>\n",
       "      <td>0</td>\n",
       "      <td>NaN</td>\n",
       "      <td>mobile</td>\n",
       "      <td>14000000</td>\n",
       "      <td>موتور کمباین جاندیر سوپر دار</td>\n",
       "      <td>NaN</td>\n",
       "      <td>NaN</td>\n",
       "    </tr>\n",
       "  </tbody>\n",
       "</table>\n",
       "<p>10000 rows × 14 columns</p>\n",
       "</div>"
      ],
      "text/plain": [
       "      archive_by_user          brand                cat1     city   \n",
       "0               False            NaN        for-the-home   Tehran  \\\n",
       "1               False            NaN        for-the-home  Mashhad   \n",
       "2               False            NaN            vehicles  Mashhad   \n",
       "3               False            NaN        for-the-home   Tehran   \n",
       "4               False            NaN            personal    Karaj   \n",
       "...               ...            ...                 ...      ...   \n",
       "9995            False            NaN            personal   Tehran   \n",
       "9996            False            NaN            personal    Ahvaz   \n",
       "9997            False  Huawei::هوآوی  electronic-devices    Karaj   \n",
       "9998            False            NaN        for-the-home   Tehran   \n",
       "9999            False            NaN            vehicles   Shiraz   \n",
       "\n",
       "          created_at                                               desc   \n",
       "0       Tuesday 07PM  کلاسیک و شیک و استثنایی\\nچرم مالزی\\nچوب راش\\nف...  \\\n",
       "1       Tuesday 07PM  سلام,یک عدد گلدون نخل سه طبقه ی سالم دارم با پ...   \n",
       "2       Tuesday 07PM  سریال 43j$NUMبدون شکستگی سه حلقه لاستیک نو یک ...   \n",
       "3       Tuesday 07PM  مبل راحتی هفت نفره شامل سه نفره یک عدد دونفره ...   \n",
       "4       Tuesday 08PM  شارژی کنترلی سویچ حمل تا 35 کیلو صندلی برای دو...   \n",
       "...              ...                                                ...   \n",
       "9995  Wednesday 07PM                           اصلا پوشیده نشده نو هستش   \n",
       "9996  Wednesday 08PM  لباس تمام گیپور. تو عکس مشخصه تمیز.فقط ۱بار تن...   \n",
       "9997   Thursday 04AM                        نونو همراه با جبه با همه چی   \n",
       "9998   Thursday 04AM  باز هم اجناس دیگه هم هست اگه دوست داشتید به تل...   \n",
       "9999   Thursday 05AM                       موتور پلمب هست هنوز باز نشده   \n",
       "\n",
       "                  id  image_count  mileage platform     price   \n",
       "0     54761638662241            5      NaN   mobile   3850000  \\\n",
       "1     42727631379133            1      NaN   mobile     30000   \n",
       "2     63194439667302            4      NaN   mobile        -1   \n",
       "3     19133025491169            4      NaN   mobile    600000   \n",
       "4     58998998335444            2      NaN   mobile    450000   \n",
       "...              ...          ...      ...      ...       ...   \n",
       "9995  21063397838341            4      NaN   mobile     55000   \n",
       "9996  42819975080363            3      NaN   mobile     70000   \n",
       "9997   7494598410644            3      NaN   mobile    400000   \n",
       "9998  24182403631548            1      NaN   mobile     41000   \n",
       "9999  14582230606463            0      NaN   mobile  14000000   \n",
       "\n",
       "                                  title   type year  \n",
       "0           ست مبلمان و نهارخوری ٩ نفره    NaN  NaN  \n",
       "1                      گلدون مصنوعی نخل    NaN  NaN  \n",
       "2                   لودر کاتر پیلار 950    NaN  NaN  \n",
       "3     مبل راحتی هفت نفره بامیز جلو مبلی    NaN  NaN  \n",
       "4                           ماشین شارژی    NaN  NaN  \n",
       "...                                 ...    ...  ...  \n",
       "9995         مانتو مجلسی قرمز سایز44 46  women  NaN  \n",
       "9996                 لباس مجلسییییی شیک  women  NaN  \n",
       "9997                          HUAWEI g6    NaN  NaN  \n",
       "9998                     نمکپاش و قندان    NaN  NaN  \n",
       "9999       موتور کمباین جاندیر سوپر دار    NaN  NaN  \n",
       "\n",
       "[10000 rows x 14 columns]"
      ]
     },
     "execution_count": 19,
     "metadata": {},
     "output_type": "execute_result"
    }
   ],
   "source": [
    "df"
   ]
  },
  {
   "cell_type": "markdown",
   "id": "96ea16ea",
   "metadata": {},
   "source": [
    "# Exploratory data analysis (EDA) "
   ]
  },
  {
   "cell_type": "markdown",
   "id": "d635217d",
   "metadata": {},
   "source": [
    "### Number of NaN values"
   ]
  },
  {
   "cell_type": "code",
   "execution_count": 20,
   "id": "d84297c8",
   "metadata": {},
   "outputs": [
    {
     "name": "stdout",
     "output_type": "stream",
     "text": [
      "NaN years: 8712\n",
      "NaN brands: 8003\n",
      "NaN mileage: 8712\n",
      "NaN type: 8944\n"
     ]
    }
   ],
   "source": [
    "nan_years = df['year'].isna().sum()\n",
    "nan_brands = df['brand'].isna().sum()\n",
    "nan_mileages = df['mileage'].isna().sum()\n",
    "nan_types = df['type'].isna().sum()\n",
    "\n",
    "\n",
    "\n",
    "print('NaN years:', nan_years)\n",
    "print('NaN brands:', nan_brands)\n",
    "print('NaN mileage:', nan_mileages)\n",
    "print('NaN type:', nan_types)"
   ]
  },
  {
   "cell_type": "code",
   "execution_count": 21,
   "id": "755e064f",
   "metadata": {},
   "outputs": [
    {
     "data": {
      "text/plain": [
       "<BarContainer object of 4 artists>"
      ]
     },
     "execution_count": 21,
     "metadata": {},
     "output_type": "execute_result"
    },
    {
     "data": {
      "image/png": "[encoded data removed]",
      "text/plain": [
       "<Figure size 640x480 with 1 Axes>"
      ]
     },
     "metadata": {},
     "output_type": "display_data"
    }
   ],
   "source": [
    "import matplotlib.pyplot as plt\n",
    "\n",
    "nan_columns = ['year', 'brand', 'mileage', 'type']\n",
    "nan_count_per_columns = [nan_years, nan_brands, nan_mileages, nan_types]\n",
    "\n",
    "plt.bar(nan_columns, nan_count_per_columns)"
   ]
  },
  {
   "cell_type": "markdown",
   "id": "6dbbf396",
   "metadata": {},
   "source": [
    "### Category of not NaN brands"
   ]
  },
  {
   "cell_type": "code",
   "execution_count": 22,
   "id": "54dcff3d",
   "metadata": {},
   "outputs": [
    {
     "data": {
      "text/plain": [
       "array(['vehicles', 'electronic-devices'], dtype=object)"
      ]
     },
     "execution_count": 22,
     "metadata": {},
     "output_type": "execute_result"
    }
   ],
   "source": [
    "df[df['brand'].notna()]['cat1'].unique()"
   ]
  },
  {
   "cell_type": "markdown",
   "id": "f1d2b575",
   "metadata": {},
   "source": [
    "### Category of not NaN years"
   ]
  },
  {
   "cell_type": "code",
   "execution_count": 23,
   "id": "5353606b",
   "metadata": {},
   "outputs": [
    {
     "data": {
      "text/plain": [
       "array(['vehicles'], dtype=object)"
      ]
     },
     "execution_count": 23,
     "metadata": {},
     "output_type": "execute_result"
    }
   ],
   "source": [
    "df[df['year'].notna()]['cat1'].unique()"
   ]
  },
  {
   "cell_type": "markdown",
   "id": "73a2cff3",
   "metadata": {},
   "source": [
    "### Category of not NaN types"
   ]
  },
  {
   "cell_type": "code",
   "execution_count": 24,
   "id": "f31926c5",
   "metadata": {},
   "outputs": [
    {
     "data": {
      "text/plain": [
       "array(['personal'], dtype=object)"
      ]
     },
     "execution_count": 24,
     "metadata": {},
     "output_type": "execute_result"
    }
   ],
   "source": [
    "df[df['type'].notna()]['cat1'].unique()"
   ]
  },
  {
   "cell_type": "markdown",
   "id": "cc31a1fd",
   "metadata": {},
   "source": [
    "### Category of not NaN mileages"
   ]
  },
  {
   "cell_type": "code",
   "execution_count": 25,
   "id": "b0d1b4bf",
   "metadata": {},
   "outputs": [
    {
     "data": {
      "text/plain": [
       "array(['vehicles'], dtype=object)"
      ]
     },
     "execution_count": 25,
     "metadata": {},
     "output_type": "execute_result"
    }
   ],
   "source": [
    "df[df['mileage'].notna()]['cat1'].unique()"
   ]
  },
  {
   "cell_type": "markdown",
   "id": "dc107459",
   "metadata": {},
   "source": [
    "### unique platforms"
   ]
  },
  {
   "cell_type": "code",
   "execution_count": 26,
   "id": "5b685aac",
   "metadata": {},
   "outputs": [
    {
     "name": "stdout",
     "output_type": "stream",
     "text": [
      "unique platforms: ['mobile' 'web']\n"
     ]
    }
   ],
   "source": [
    "print('unique platforms:', df['platform'].unique())"
   ]
  },
  {
   "cell_type": "markdown",
   "id": "44dc3dc0",
   "metadata": {},
   "source": [
    "### Number of rows per category"
   ]
  },
  {
   "cell_type": "code",
   "execution_count": 27,
   "id": "d629c338",
   "metadata": {},
   "outputs": [
    {
     "data": {
      "text/plain": [
       "cat1\n",
       "for-the-home          3044\n",
       "vehicles              2208\n",
       "electronic-devices    1738\n",
       "personal              1525\n",
       "leisure-hobbies        849\n",
       "businesses             636\n",
       "Name: count, dtype: int64"
      ]
     },
     "execution_count": 27,
     "metadata": {},
     "output_type": "execute_result"
    }
   ],
   "source": [
    "categories_count = df['cat1'].value_counts()\n",
    "categories_count"
   ]
  },
  {
   "cell_type": "code",
   "execution_count": 28,
   "id": "000565eb",
   "metadata": {},
   "outputs": [
    {
     "data": {
      "text/plain": [
       "Index(['for-the-home', 'vehicles', 'electronic-devices', 'personal',\n",
       "       'leisure-hobbies', 'businesses'],\n",
       "      dtype='object', name='cat1')"
      ]
     },
     "execution_count": 28,
     "metadata": {},
     "output_type": "execute_result"
    }
   ],
   "source": [
    "categories_count.index"
   ]
  },
  {
   "cell_type": "code",
   "execution_count": 29,
   "id": "b385801b",
   "metadata": {},
   "outputs": [
    {
     "data": {
      "text/plain": [
       "array([3044, 2208, 1738, 1525,  849,  636])"
      ]
     },
     "execution_count": 29,
     "metadata": {},
     "output_type": "execute_result"
    }
   ],
   "source": [
    "categories_count.values"
   ]
  },
  {
   "cell_type": "code",
   "execution_count": 30,
   "id": "7790ff20",
   "metadata": {},
   "outputs": [
    {
     "data": {
      "text/plain": [
       "([<matplotlib.axis.XTick at 0x7f60f9820c70>,\n",
       "  <matplotlib.axis.XTick at 0x7f60f9820c40>,\n",
       "  <matplotlib.axis.XTick at 0x7f60f9820b50>,\n",
       "  <matplotlib.axis.XTick at 0x7f60f9851ae0>,\n",
       "  <matplotlib.axis.XTick at 0x7f60f9852530>,\n",
       "  <matplotlib.axis.XTick at 0x7f60f9852f20>],\n",
       " [Text(0, 0, 'for-the-home'),\n",
       "  Text(1, 0, 'vehicles'),\n",
       "  Text(2, 0, 'electronic-devices'),\n",
       "  Text(3, 0, 'personal'),\n",
       "  Text(4, 0, 'leisure-hobbies'),\n",
       "  Text(5, 0, 'businesses')])"
      ]
     },
     "execution_count": 30,
     "metadata": {},
     "output_type": "execute_result"
    },
    {
     "data": {
      "image/png": "[encoded data removed]",
      "text/plain": [
       "<Figure size 640x480 with 1 Axes>"
      ]
     },
     "metadata": {},
     "output_type": "display_data"
    }
   ],
   "source": [
    "plt.bar(range(len(categories_count.index)), categories_count.values)\n",
    "plt.xticks(range(len(categories_count.index)), categories_count.index.values, size='small')\n"
   ]
  }
 ],
 "metadata": {
  "kernelspec": {
   "display_name": "Python 3 (ipykernel)",
   "language": "python",
   "name": "python3"
  },
  "language_info": {
   "codemirror_mode": {
    "name": "ipython",
    "version": 3
   },
   "file_extension": ".py",
   "mimetype": "text/x-python",
   "name": "python",
   "nbconvert_exporter": "python",
   "pygments_lexer": "ipython3",
   "version": "3.10.6"
  }
 },
 "nbformat": 4,
 "nbformat_minor": 5
}
